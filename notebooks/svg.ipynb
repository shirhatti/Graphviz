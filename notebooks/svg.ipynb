{
  "cells": [
    {
      "cell_type": "code",
      "execution_count": 1,
      "metadata": {
        "dotnet_interactive": {
          "language": "pwsh"
        }
      },
      "outputs": [
        {
          "data": {
            "text/plain": "Microsoft (R) Build Engine version 16.9.0-preview-21103-02+198f3f262 for .NET\r\n"
          },
          "output_type": "unknown"
        },
        {
          "data": {
            "text/plain": "Copyright (C) Microsoft Corporation. All rights reserved.\r\n"
          },
          "output_type": "unknown"
        },
        {
          "data": {
            "text/plain": "\r\n"
          },
          "output_type": "unknown"
        },
        {
          "data": {
            "text/plain": "  Determining projects to restore...\r\n"
          },
          "output_type": "unknown"
        },
        {
          "data": {
            "text/plain": "  All projects are up-to-date for restore.\r\n"
          },
          "output_type": "unknown"
        },
        {
          "data": {
            "text/plain": "  You are using a preview version of .NET. See: https://aka.ms/dotnet-core-preview\r\n"
          },
          "output_type": "unknown"
        },
        {
          "data": {
            "text/plain": "  You are using a preview version of .NET. See: https://aka.ms/dotnet-core-preview\r\n"
          },
          "output_type": "unknown"
        },
        {
          "data": {
            "text/plain": "  You are using a preview version of .NET. See: https://aka.ms/dotnet-core-preview\r\n"
          },
          "output_type": "unknown"
        },
        {
          "data": {
            "text/plain": "  Shirhatti.Graphviz -> C:\\Users\\shirh\\source\\repos\\Shirhatti.Graphviz\\src\\Shirhatti.Graphviz\\bin\\Debug\\netstandard2.1\\Shirhatti.Graphviz.dll\r\n"
          },
          "output_type": "unknown"
        },
        {
          "data": {
            "text/plain": "  You are using a preview version of .NET. See: https://aka.ms/dotnet-core-preview\r\n"
          },
          "output_type": "unknown"
        },
        {
          "data": {
            "text/plain": "  Shirhatti.Graphviz -> C:\\Users\\shirh\\source\\repos\\Shirhatti.Graphviz\\src\\Shirhatti.Graphviz\\bin\\Debug\\net6.0\\Shirhatti.Graphviz.dll\r\n"
          },
          "output_type": "unknown"
        },
        {
          "data": {
            "text/plain": "  WebApp -> C:\\Users\\shirh\\source\\repos\\Shirhatti.Graphviz\\samples\\WebApp\\bin\\Debug\\net6.0\\WebApp.dll\r\n"
          },
          "output_type": "unknown"
        },
        {
          "data": {
            "text/plain": "  ConsoleApp -> C:\\Users\\shirh\\source\\repos\\Shirhatti.Graphviz\\samples\\ConsoleApp\\bin\\Debug\\net6.0\\ConsoleApp.dll\r\n"
          },
          "output_type": "unknown"
        },
        {
          "data": {
            "text/plain": "\r\n"
          },
          "output_type": "unknown"
        },
        {
          "data": {
            "text/plain": "Build succeeded.\r\n"
          },
          "output_type": "unknown"
        },
        {
          "data": {
            "text/plain": "    0 Warning(s)\r\n"
          },
          "output_type": "unknown"
        },
        {
          "data": {
            "text/plain": "    0 Error(s)\r\n"
          },
          "output_type": "unknown"
        },
        {
          "data": {
            "text/plain": "\r\n"
          },
          "output_type": "unknown"
        },
        {
          "data": {
            "text/plain": "Time Elapsed 00:00:03.01\r\n"
          },
          "output_type": "unknown"
        }
      ],
      "source": [
        "dotnet build .."
      ]
    },
    {
      "cell_type": "code",
      "execution_count": 1,
      "metadata": {
        "dotnet_interactive": {
          "language": "csharp"
        }
      },
      "outputs": [],
      "source": [
        "using System;\n",
        "using System.IO;\n",
        "using System.Reflection;\n",
        "using System.Runtime.CompilerServices;\n",
        "using System.Runtime.InteropServices;\n",
        "\n",
        "if (RuntimeInformation.IsOSPlatform(OSPlatform.Windows))\n",
        "{\n",
        "  var graphVizBinPath = Path.Combine(\n",
        "    Environment.GetFolderPath(Environment.SpecialFolder.ProgramFiles),\n",
        "    \"Graphviz\", \"bin\");\n",
        "  NativeLibrary.SetDllImportResolver(Assembly.GetExecutingAssembly(), (libraryName, assembly, searchPath) =>\n",
        "  {\n",
        "      if (RuntimeInformation.IsOSPlatform(OSPlatform.Windows))\n",
        "      {\n",
        "\n",
        "          if (NativeLibrary.TryLoad(Path.Join(graphVizBinPath, libraryName), out IntPtr handle)) return handle;\n",
        "      }\n",
        "      return default;\n",
        "  });\n",
        "}"
      ]
    },
    {
      "cell_type": "code",
      "execution_count": 1,
      "metadata": {
        "dotnet_interactive": {
          "language": "csharp"
        }
      },
      "outputs": [],
      "source": [
        "#r \"..\\src\\Shirhatti.Graphviz\\bin\\Debug\\netstandard2.1\\Shirhatti.Graphviz.dll\"\r\n",
        "#r \"nuget: DotNetGraph, 2.6.0\""
      ]
    },
    {
      "cell_type": "code",
      "execution_count": 1,
      "metadata": {
        "dotnet_interactive": {
          "language": "csharp"
        }
      },
      "outputs": [
        {
          "data": {
            "text/plain": "20210213.1702\r\n"
          },
          "output_type": "unknown"
        },
        {
          "data": {
            "text/plain": "2.46.1\r\n"
          },
          "output_type": "unknown"
        }
      ],
      "source": [
        "using Shirhatti.Graphviz;\n",
        "\n",
        "var graphviz = new Graphviz();\n",
        "Console.WriteLine(graphviz.BuildDate);\n",
        "Console.WriteLine(graphviz.Version);"
      ]
    },
    {
      "cell_type": "code",
      "execution_count": 1,
      "metadata": {
        "dotnet_interactive": {
          "language": "csharp"
        }
      },
      "outputs": [],
      "source": [
        "using System.Text;\r\n",
        "using DotNetGraph;\r\n",
        "using DotNetGraph.Edge;\r\n",
        "using DotNetGraph.Extensions;\r\n",
        "using Shirhatti.Graphviz;\r\n",
        "\r\n",
        "var graph = new DotGraph(\"graph\");\r\n",
        "var myEdge = new DotEdge(\"myNode1\", \"myNode2\");\r\n",
        "graph.Elements.Add(myEdge);\r\n",
        "var dot = graph.Compile();\r\n",
        "\r\n",
        "var cgraph = new Cgraph(dot);\r\n",
        "var image = graphviz.RenderDot(cgraph, OutputFormat.Svg);\r\n",
        "var svgString = Encoding.ASCII.GetString(image);"
      ]
    },
    {
      "cell_type": "code",
      "execution_count": 1,
      "metadata": {
        "dotnet_interactive": {
          "language": "csharp"
        }
      },
      "outputs": [
        {
          "data": {
            "image/svg+xml": "<?xml version=\"1.0\" encoding=\"UTF-8\" standalone=\"no\"?>\n<!DOCTYPE svg PUBLIC \"-//W3C//DTD SVG 1.1//EN\"\n \"http://www.w3.org/Graphics/SVG/1.1/DTD/svg11.dtd\">\n<!-- Generated by graphviz version 2.46.1 (20210213.1702)\n -->\n<!-- Title: graph Pages: 1 -->\n<svg width=\"100pt\" height=\"116pt\"\n viewBox=\"0.00 0.00 100.29 116.00\" xmlns=\"http://www.w3.org/2000/svg\" xmlns:xlink=\"http://www.w3.org/1999/xlink\">\n<g id=\"graph0\" class=\"graph\" transform=\"scale(1 1) rotate(0) translate(4 112)\">\n<title>graph</title>\n<polygon fill=\"white\" stroke=\"transparent\" points=\"-4,4 -4,-112 96.29,-112 96.29,4 -4,4\"/>\n<!-- myNode1 -->\n<g id=\"node1\" class=\"node\">\n<title>myNode1</title>\n<ellipse fill=\"none\" stroke=\"black\" cx=\"46.15\" cy=\"-90\" rx=\"46.29\" ry=\"18\"/>\n<text text-anchor=\"middle\" x=\"46.15\" y=\"-86.3\" font-family=\"Times New Roman,serif\" font-size=\"14.00\">myNode1</text>\n</g>\n<!-- myNode2 -->\n<g id=\"node2\" class=\"node\">\n<title>myNode2</title>\n<ellipse fill=\"none\" stroke=\"black\" cx=\"46.15\" cy=\"-18\" rx=\"46.29\" ry=\"18\"/>\n<text text-anchor=\"middle\" x=\"46.15\" y=\"-14.3\" font-family=\"Times New Roman,serif\" font-size=\"14.00\">myNode2</text>\n</g>\n<!-- myNode1&#45;&#45;myNode2 -->\n<g id=\"edge1\" class=\"edge\">\n<title>myNode1&#45;&#45;myNode2</title>\n<path fill=\"none\" stroke=\"black\" d=\"M46.15,-71.7C46.15,-60.85 46.15,-46.92 46.15,-36.1\"/>\n</g>\n</g>\n</svg>\n"
          },
          "output_type": "unknown"
        }
      ],
      "source": [
        "display(svgString, \"image/svg+xml\")"
      ]
    }
  ],
  "metadata": {
    "kernelspec": {
      "display_name": ".NET (C#)",
      "language": "C#",
      "name": ".net-csharp"
    },
    "language_info": {
      "file_extension": ".cs",
      "mimetype": "text/x-csharp",
      "name": "csharp",
      "pygments_lexer": "csharp",
      "version": "8.0"
    }
  },
  "nbformat": 4,
  "nbformat_minor": 4
}